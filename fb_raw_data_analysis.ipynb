{
 "cells": [
  {
   "cell_type": "code",
   "execution_count": 186,
   "metadata": {
    "collapsed": true
   },
   "outputs": [],
   "source": [
    "import numpy as np\n",
    "import pandas as pd\n",
    "import sexmachine.detector as gender\n",
    "from genderize import Genderize\n",
    "import datetime as dt\n",
    "\n",
    "import seaborn as sns\n",
    "import matplotlib.pyplot as plt"
   ]
  },
  {
   "cell_type": "code",
   "execution_count": 311,
   "metadata": {
    "collapsed": false
   },
   "outputs": [
    {
     "data": {
      "text/html": [
       "<div>\n",
       "<style>\n",
       "    .dataframe thead tr:only-child th {\n",
       "        text-align: right;\n",
       "    }\n",
       "\n",
       "    .dataframe thead th {\n",
       "        text-align: left;\n",
       "    }\n",
       "\n",
       "    .dataframe tbody tr th {\n",
       "        vertical-align: top;\n",
       "    }\n",
       "</style>\n",
       "<table border=\"1\" class=\"dataframe\">\n",
       "  <thead>\n",
       "    <tr style=\"text-align: right;\">\n",
       "      <th></th>\n",
       "      <th>id</th>\n",
       "      <th>name</th>\n",
       "      <th>facebook_user_name</th>\n",
       "      <th>facebook_user_id</th>\n",
       "      <th>profile_url</th>\n",
       "      <th>works</th>\n",
       "      <th>colleges</th>\n",
       "      <th>current_city</th>\n",
       "      <th>hometown</th>\n",
       "      <th>places_lived</th>\n",
       "      <th>...</th>\n",
       "      <th>birth_date</th>\n",
       "      <th>interested_in</th>\n",
       "      <th>languages</th>\n",
       "      <th>religion</th>\n",
       "      <th>political</th>\n",
       "      <th>gender</th>\n",
       "      <th>relationship</th>\n",
       "      <th>life_events</th>\n",
       "      <th>about</th>\n",
       "      <th>timestamp</th>\n",
       "    </tr>\n",
       "  </thead>\n",
       "  <tbody>\n",
       "    <tr>\n",
       "      <th>0</th>\n",
       "      <td>1</td>\n",
       "      <td>��_������</td>\n",
       "      <td>NaN</td>\n",
       "      <td>1.000040e+14</td>\n",
       "      <td>https://m.facebook.com/profile.php?id=10000442...</td>\n",
       "      <td>null</td>\n",
       "      <td>null</td>\n",
       "      <td>{\"city\": null, \"page_url\": null}</td>\n",
       "      <td>{\"hometown\": null, \"page_url\": null}</td>\n",
       "      <td>null</td>\n",
       "      <td>...</td>\n",
       "      <td>NaN</td>\n",
       "      <td>NaN</td>\n",
       "      <td>[]</td>\n",
       "      <td>NaN</td>\n",
       "      <td>NaN</td>\n",
       "      <td>Female</td>\n",
       "      <td>{\"text\": \"\", \"link\": null}</td>\n",
       "      <td>null</td>\n",
       "      <td>NaN</td>\n",
       "      <td>31:09.6</td>\n",
       "    </tr>\n",
       "    <tr>\n",
       "      <th>1</th>\n",
       "      <td>2</td>\n",
       "      <td>Joanna Soong</td>\n",
       "      <td>joanna.soong.98</td>\n",
       "      <td>1.000130e+14</td>\n",
       "      <td>https://m.facebook.com/joanna.soong.98</td>\n",
       "      <td>[{\"company\": \"Industrial and Commercial Bank o...</td>\n",
       "      <td>[{\"school\": \"Akademia Leona Ko\\u017ami\\u0144sk...</td>\n",
       "      <td>{\"city\": \"Warsaw, Poland\", \"page_url\": \"/profi...</td>\n",
       "      <td>{\"hometown\": \"Guangzhou, China\", \"page_url\": \"...</td>\n",
       "      <td>null</td>\n",
       "      <td>...</td>\n",
       "      <td>NaN</td>\n",
       "      <td>NaN</td>\n",
       "      <td>[]</td>\n",
       "      <td>NaN</td>\n",
       "      <td>NaN</td>\n",
       "      <td>Female</td>\n",
       "      <td>{\"text\": \"\", \"link\": null}</td>\n",
       "      <td>[{\"headline\": \"Started School at Akademia Leon...</td>\n",
       "      <td>NaN</td>\n",
       "      <td>31:23.7</td>\n",
       "    </tr>\n",
       "    <tr>\n",
       "      <th>2</th>\n",
       "      <td>3</td>\n",
       "      <td>Paulina G�_recka</td>\n",
       "      <td>NaN</td>\n",
       "      <td>1.000030e+14</td>\n",
       "      <td>https://m.facebook.com/profile.php?id=10000326...</td>\n",
       "      <td>null</td>\n",
       "      <td>null</td>\n",
       "      <td>{\"city\": null, \"page_url\": null}</td>\n",
       "      <td>{\"hometown\": \"Warsaw, Poland\", \"page_url\": \"/p...</td>\n",
       "      <td>null</td>\n",
       "      <td>...</td>\n",
       "      <td>NaN</td>\n",
       "      <td>NaN</td>\n",
       "      <td>[]</td>\n",
       "      <td>NaN</td>\n",
       "      <td>NaN</td>\n",
       "      <td>Female</td>\n",
       "      <td>{\"text\": \"\", \"link\": null}</td>\n",
       "      <td>null</td>\n",
       "      <td>NaN</td>\n",
       "      <td>31:34.7</td>\n",
       "    </tr>\n",
       "    <tr>\n",
       "      <th>3</th>\n",
       "      <td>4</td>\n",
       "      <td>Seb��ly Zsuzsanna</td>\n",
       "      <td>zsuzsanna.sebaly</td>\n",
       "      <td>1.482905e+09</td>\n",
       "      <td>https://m.facebook.com/zsuzsanna.sebaly</td>\n",
       "      <td>[{\"company\": \"Cinkotai Huncutka \\u00d3voda - O...</td>\n",
       "      <td>[{\"school\": \"Eszterh\\u00e1zy K\\u00e1roly Egyet...</td>\n",
       "      <td>{\"city\": null, \"page_url\": null}</td>\n",
       "      <td>{\"hometown\": \"Budapest, Hungary\", \"page_url\": ...</td>\n",
       "      <td>null</td>\n",
       "      <td>...</td>\n",
       "      <td>NaN</td>\n",
       "      <td>NaN</td>\n",
       "      <td>[]</td>\n",
       "      <td>NaN</td>\n",
       "      <td>NaN</td>\n",
       "      <td>Female</td>\n",
       "      <td>{\"text\": \"\", \"link\": null}</td>\n",
       "      <td>[{\"headline\": \"Graduated from Eszterh\\u00e1zy ...</td>\n",
       "      <td>��ܾ__��Ս����վ���_��_� �__�_��_���������_�_����...</td>\n",
       "      <td>31:35.7</td>\n",
       "    </tr>\n",
       "    <tr>\n",
       "      <th>4</th>\n",
       "      <td>5</td>\n",
       "      <td>Amy Xie</td>\n",
       "      <td>amy.xie.940</td>\n",
       "      <td>5.289969e+08</td>\n",
       "      <td>https://m.facebook.com/amy.xie.940</td>\n",
       "      <td>null</td>\n",
       "      <td>[{\"school\": \"University of British Columbia\", ...</td>\n",
       "      <td>{\"city\": \"Richmond, British Columbia\", \"page_u...</td>\n",
       "      <td>{\"hometown\": \"Richmond, British Columbia\", \"pa...</td>\n",
       "      <td>null</td>\n",
       "      <td>...</td>\n",
       "      <td>NaN</td>\n",
       "      <td>Men</td>\n",
       "      <td>[]</td>\n",
       "      <td>NaN</td>\n",
       "      <td>NaN</td>\n",
       "      <td>Female</td>\n",
       "      <td>{\"text\": \"Single\", \"link\": null}</td>\n",
       "      <td>null</td>\n",
       "      <td>NaN</td>\n",
       "      <td>31:46.8</td>\n",
       "    </tr>\n",
       "  </tbody>\n",
       "</table>\n",
       "<p>5 rows × 23 columns</p>\n",
       "</div>"
      ],
      "text/plain": [
       "   id               name facebook_user_name  facebook_user_id  \\\n",
       "0   1          ��_������                NaN      1.000040e+14   \n",
       "1   2       Joanna Soong    joanna.soong.98      1.000130e+14   \n",
       "2   3   Paulina G�_recka                NaN      1.000030e+14   \n",
       "3   4  Seb��ly Zsuzsanna   zsuzsanna.sebaly      1.482905e+09   \n",
       "4   5            Amy Xie        amy.xie.940      5.289969e+08   \n",
       "\n",
       "                                         profile_url  \\\n",
       "0  https://m.facebook.com/profile.php?id=10000442...   \n",
       "1             https://m.facebook.com/joanna.soong.98   \n",
       "2  https://m.facebook.com/profile.php?id=10000326...   \n",
       "3            https://m.facebook.com/zsuzsanna.sebaly   \n",
       "4                 https://m.facebook.com/amy.xie.940   \n",
       "\n",
       "                                               works  \\\n",
       "0                                               null   \n",
       "1  [{\"company\": \"Industrial and Commercial Bank o...   \n",
       "2                                               null   \n",
       "3  [{\"company\": \"Cinkotai Huncutka \\u00d3voda - O...   \n",
       "4                                               null   \n",
       "\n",
       "                                            colleges  \\\n",
       "0                                               null   \n",
       "1  [{\"school\": \"Akademia Leona Ko\\u017ami\\u0144sk...   \n",
       "2                                               null   \n",
       "3  [{\"school\": \"Eszterh\\u00e1zy K\\u00e1roly Egyet...   \n",
       "4  [{\"school\": \"University of British Columbia\", ...   \n",
       "\n",
       "                                        current_city  \\\n",
       "0                   {\"city\": null, \"page_url\": null}   \n",
       "1  {\"city\": \"Warsaw, Poland\", \"page_url\": \"/profi...   \n",
       "2                   {\"city\": null, \"page_url\": null}   \n",
       "3                   {\"city\": null, \"page_url\": null}   \n",
       "4  {\"city\": \"Richmond, British Columbia\", \"page_u...   \n",
       "\n",
       "                                            hometown places_lived    ...     \\\n",
       "0               {\"hometown\": null, \"page_url\": null}         null    ...      \n",
       "1  {\"hometown\": \"Guangzhou, China\", \"page_url\": \"...         null    ...      \n",
       "2  {\"hometown\": \"Warsaw, Poland\", \"page_url\": \"/p...         null    ...      \n",
       "3  {\"hometown\": \"Budapest, Hungary\", \"page_url\": ...         null    ...      \n",
       "4  {\"hometown\": \"Richmond, British Columbia\", \"pa...         null    ...      \n",
       "\n",
       "  birth_date interested_in languages religion political  gender  \\\n",
       "0        NaN           NaN        []      NaN       NaN  Female   \n",
       "1        NaN           NaN        []      NaN       NaN  Female   \n",
       "2        NaN           NaN        []      NaN       NaN  Female   \n",
       "3        NaN           NaN        []      NaN       NaN  Female   \n",
       "4        NaN           Men        []      NaN       NaN  Female   \n",
       "\n",
       "                       relationship  \\\n",
       "0        {\"text\": \"\", \"link\": null}   \n",
       "1        {\"text\": \"\", \"link\": null}   \n",
       "2        {\"text\": \"\", \"link\": null}   \n",
       "3        {\"text\": \"\", \"link\": null}   \n",
       "4  {\"text\": \"Single\", \"link\": null}   \n",
       "\n",
       "                                         life_events  \\\n",
       "0                                               null   \n",
       "1  [{\"headline\": \"Started School at Akademia Leon...   \n",
       "2                                               null   \n",
       "3  [{\"headline\": \"Graduated from Eszterh\\u00e1zy ...   \n",
       "4                                               null   \n",
       "\n",
       "                                               about timestamp  \n",
       "0                                                NaN   31:09.6  \n",
       "1                                                NaN   31:23.7  \n",
       "2                                                NaN   31:34.7  \n",
       "3  ��ܾ__��Ս����վ���_��_� �__�_��_���������_�_����...   31:35.7  \n",
       "4                                                NaN   31:46.8  \n",
       "\n",
       "[5 rows x 23 columns]"
      ]
     },
     "execution_count": 311,
     "metadata": {},
     "output_type": "execute_result"
    }
   ],
   "source": [
    "data = pd.read_csv('combine.csv')\n",
    "data = data[pd.notnull(data['name'])].drop_duplicates()\n",
    "#data = data.set_index('facebook_user_id').drop_duplicates()\n",
    "data[:5]"
   ]
  },
  {
   "cell_type": "code",
   "execution_count": 257,
   "metadata": {
    "collapsed": false
   },
   "outputs": [
    {
     "data": {
      "text/plain": [
       "1470"
      ]
     },
     "execution_count": 257,
     "metadata": {},
     "output_type": "execute_result"
    }
   ],
   "source": [
    "len(data)\n",
    "#total: 1472"
   ]
  },
  {
   "cell_type": "code",
   "execution_count": 197,
   "metadata": {
    "collapsed": false
   },
   "outputs": [
    {
     "data": {
      "text/plain": [
       "Index([u'id', u'name', u'facebook_user_name', u'facebook_user_id',\n",
       "       u'profile_url', u'works', u'colleges', u'current_city', u'hometown',\n",
       "       u'places_lived', u'fav_quotes', u'websites', u'mobile_numbers',\n",
       "       u'birth_date', u'interested_in', u'languages', u'religion',\n",
       "       u'political', u'gender', u'relationship', u'life_events', u'about',\n",
       "       u'timestamp'],\n",
       "      dtype='object')"
      ]
     },
     "execution_count": 197,
     "metadata": {},
     "output_type": "execute_result"
    }
   ],
   "source": [
    "data.columns"
   ]
  },
  {
   "cell_type": "code",
   "execution_count": 312,
   "metadata": {
    "collapsed": false
   },
   "outputs": [
    {
     "data": {
      "text/plain": [
       "1470"
      ]
     },
     "execution_count": 312,
     "metadata": {},
     "output_type": "execute_result"
    }
   ],
   "source": [
    "data = data[['facebook_user_id','works','colleges','current_city',\n",
    "             'hometown','birth_date','interested_in','gender','relationship']]\n",
    "len(data)"
   ]
  },
  {
   "cell_type": "code",
   "execution_count": 256,
   "metadata": {
    "collapsed": false
   },
   "outputs": [
    {
     "data": {
      "text/plain": [
       "Female    721\n",
       "Male      470\n",
       "Name: gender, dtype: int64"
      ]
     },
     "execution_count": 256,
     "metadata": {},
     "output_type": "execute_result"
    }
   ],
   "source": [
    "data['gender'].value_counts()"
   ]
  },
  {
   "cell_type": "markdown",
   "metadata": {},
   "source": [
    "# Gender Imputation"
   ]
  },
  {
   "cell_type": "code",
   "execution_count": 304,
   "metadata": {
    "collapsed": false
   },
   "outputs": [
    {
     "data": {
      "text/plain": [
       "1191"
      ]
     },
     "execution_count": 304,
     "metadata": {},
     "output_type": "execute_result"
    }
   ],
   "source": [
    "gender = data[pd.notnull(data['gender'])]\n",
    "len(gender)"
   ]
  },
  {
   "cell_type": "code",
   "execution_count": 195,
   "metadata": {
    "collapsed": false
   },
   "outputs": [
    {
     "data": {
      "text/html": [
       "<div>\n",
       "<style>\n",
       "    .dataframe thead tr:only-child th {\n",
       "        text-align: right;\n",
       "    }\n",
       "\n",
       "    .dataframe thead th {\n",
       "        text-align: left;\n",
       "    }\n",
       "\n",
       "    .dataframe tbody tr th {\n",
       "        vertical-align: top;\n",
       "    }\n",
       "</style>\n",
       "<table border=\"1\" class=\"dataframe\">\n",
       "  <thead>\n",
       "    <tr style=\"text-align: right;\">\n",
       "      <th></th>\n",
       "      <th>id</th>\n",
       "      <th>name</th>\n",
       "      <th>facebook_user_name</th>\n",
       "      <th>facebook_user_id</th>\n",
       "      <th>profile_url</th>\n",
       "      <th>works</th>\n",
       "      <th>colleges</th>\n",
       "      <th>current_city</th>\n",
       "      <th>hometown</th>\n",
       "      <th>places_lived</th>\n",
       "      <th>...</th>\n",
       "      <th>birth_date</th>\n",
       "      <th>interested_in</th>\n",
       "      <th>languages</th>\n",
       "      <th>religion</th>\n",
       "      <th>political</th>\n",
       "      <th>gender</th>\n",
       "      <th>relationship</th>\n",
       "      <th>life_events</th>\n",
       "      <th>about</th>\n",
       "      <th>timestamp</th>\n",
       "    </tr>\n",
       "  </thead>\n",
       "  <tbody>\n",
       "    <tr>\n",
       "      <th>0</th>\n",
       "      <td>1</td>\n",
       "      <td>��_������</td>\n",
       "      <td>NaN</td>\n",
       "      <td>1.000040e+14</td>\n",
       "      <td>https://m.facebook.com/profile.php?id=10000442...</td>\n",
       "      <td>null</td>\n",
       "      <td>null</td>\n",
       "      <td>{\"city\": null, \"page_url\": null}</td>\n",
       "      <td>{\"hometown\": null, \"page_url\": null}</td>\n",
       "      <td>null</td>\n",
       "      <td>...</td>\n",
       "      <td>NaN</td>\n",
       "      <td>NaN</td>\n",
       "      <td>[]</td>\n",
       "      <td>NaN</td>\n",
       "      <td>NaN</td>\n",
       "      <td>Female</td>\n",
       "      <td>{\"text\": \"\", \"link\": null}</td>\n",
       "      <td>null</td>\n",
       "      <td>NaN</td>\n",
       "      <td>31:09.6</td>\n",
       "    </tr>\n",
       "    <tr>\n",
       "      <th>1</th>\n",
       "      <td>2</td>\n",
       "      <td>Joanna Soong</td>\n",
       "      <td>joanna.soong.98</td>\n",
       "      <td>1.000130e+14</td>\n",
       "      <td>https://m.facebook.com/joanna.soong.98</td>\n",
       "      <td>[{\"company\": \"Industrial and Commercial Bank o...</td>\n",
       "      <td>[{\"school\": \"Akademia Leona Ko\\u017ami\\u0144sk...</td>\n",
       "      <td>{\"city\": \"Warsaw, Poland\", \"page_url\": \"/profi...</td>\n",
       "      <td>{\"hometown\": \"Guangzhou, China\", \"page_url\": \"...</td>\n",
       "      <td>null</td>\n",
       "      <td>...</td>\n",
       "      <td>NaN</td>\n",
       "      <td>NaN</td>\n",
       "      <td>[]</td>\n",
       "      <td>NaN</td>\n",
       "      <td>NaN</td>\n",
       "      <td>Female</td>\n",
       "      <td>{\"text\": \"\", \"link\": null}</td>\n",
       "      <td>[{\"headline\": \"Started School at Akademia Leon...</td>\n",
       "      <td>NaN</td>\n",
       "      <td>31:23.7</td>\n",
       "    </tr>\n",
       "    <tr>\n",
       "      <th>2</th>\n",
       "      <td>3</td>\n",
       "      <td>Paulina G�_recka</td>\n",
       "      <td>NaN</td>\n",
       "      <td>1.000030e+14</td>\n",
       "      <td>https://m.facebook.com/profile.php?id=10000326...</td>\n",
       "      <td>null</td>\n",
       "      <td>null</td>\n",
       "      <td>{\"city\": null, \"page_url\": null}</td>\n",
       "      <td>{\"hometown\": \"Warsaw, Poland\", \"page_url\": \"/p...</td>\n",
       "      <td>null</td>\n",
       "      <td>...</td>\n",
       "      <td>NaN</td>\n",
       "      <td>NaN</td>\n",
       "      <td>[]</td>\n",
       "      <td>NaN</td>\n",
       "      <td>NaN</td>\n",
       "      <td>Female</td>\n",
       "      <td>{\"text\": \"\", \"link\": null}</td>\n",
       "      <td>null</td>\n",
       "      <td>NaN</td>\n",
       "      <td>31:34.7</td>\n",
       "    </tr>\n",
       "    <tr>\n",
       "      <th>3</th>\n",
       "      <td>4</td>\n",
       "      <td>Seb��ly Zsuzsanna</td>\n",
       "      <td>zsuzsanna.sebaly</td>\n",
       "      <td>1.482905e+09</td>\n",
       "      <td>https://m.facebook.com/zsuzsanna.sebaly</td>\n",
       "      <td>[{\"company\": \"Cinkotai Huncutka \\u00d3voda - O...</td>\n",
       "      <td>[{\"school\": \"Eszterh\\u00e1zy K\\u00e1roly Egyet...</td>\n",
       "      <td>{\"city\": null, \"page_url\": null}</td>\n",
       "      <td>{\"hometown\": \"Budapest, Hungary\", \"page_url\": ...</td>\n",
       "      <td>null</td>\n",
       "      <td>...</td>\n",
       "      <td>NaN</td>\n",
       "      <td>NaN</td>\n",
       "      <td>[]</td>\n",
       "      <td>NaN</td>\n",
       "      <td>NaN</td>\n",
       "      <td>Female</td>\n",
       "      <td>{\"text\": \"\", \"link\": null}</td>\n",
       "      <td>[{\"headline\": \"Graduated from Eszterh\\u00e1zy ...</td>\n",
       "      <td>��ܾ__��Ս����վ���_��_� �__�_��_���������_�_����...</td>\n",
       "      <td>31:35.7</td>\n",
       "    </tr>\n",
       "    <tr>\n",
       "      <th>4</th>\n",
       "      <td>5</td>\n",
       "      <td>Amy Xie</td>\n",
       "      <td>amy.xie.940</td>\n",
       "      <td>5.289969e+08</td>\n",
       "      <td>https://m.facebook.com/amy.xie.940</td>\n",
       "      <td>null</td>\n",
       "      <td>[{\"school\": \"University of British Columbia\", ...</td>\n",
       "      <td>{\"city\": \"Richmond, British Columbia\", \"page_u...</td>\n",
       "      <td>{\"hometown\": \"Richmond, British Columbia\", \"pa...</td>\n",
       "      <td>null</td>\n",
       "      <td>...</td>\n",
       "      <td>NaN</td>\n",
       "      <td>Men</td>\n",
       "      <td>[]</td>\n",
       "      <td>NaN</td>\n",
       "      <td>NaN</td>\n",
       "      <td>Female</td>\n",
       "      <td>{\"text\": \"Single\", \"link\": null}</td>\n",
       "      <td>null</td>\n",
       "      <td>NaN</td>\n",
       "      <td>31:46.8</td>\n",
       "    </tr>\n",
       "  </tbody>\n",
       "</table>\n",
       "<p>5 rows × 23 columns</p>\n",
       "</div>"
      ],
      "text/plain": [
       "   id               name facebook_user_name  facebook_user_id  \\\n",
       "0   1          ��_������                NaN      1.000040e+14   \n",
       "1   2       Joanna Soong    joanna.soong.98      1.000130e+14   \n",
       "2   3   Paulina G�_recka                NaN      1.000030e+14   \n",
       "3   4  Seb��ly Zsuzsanna   zsuzsanna.sebaly      1.482905e+09   \n",
       "4   5            Amy Xie        amy.xie.940      5.289969e+08   \n",
       "\n",
       "                                         profile_url  \\\n",
       "0  https://m.facebook.com/profile.php?id=10000442...   \n",
       "1             https://m.facebook.com/joanna.soong.98   \n",
       "2  https://m.facebook.com/profile.php?id=10000326...   \n",
       "3            https://m.facebook.com/zsuzsanna.sebaly   \n",
       "4                 https://m.facebook.com/amy.xie.940   \n",
       "\n",
       "                                               works  \\\n",
       "0                                               null   \n",
       "1  [{\"company\": \"Industrial and Commercial Bank o...   \n",
       "2                                               null   \n",
       "3  [{\"company\": \"Cinkotai Huncutka \\u00d3voda - O...   \n",
       "4                                               null   \n",
       "\n",
       "                                            colleges  \\\n",
       "0                                               null   \n",
       "1  [{\"school\": \"Akademia Leona Ko\\u017ami\\u0144sk...   \n",
       "2                                               null   \n",
       "3  [{\"school\": \"Eszterh\\u00e1zy K\\u00e1roly Egyet...   \n",
       "4  [{\"school\": \"University of British Columbia\", ...   \n",
       "\n",
       "                                        current_city  \\\n",
       "0                   {\"city\": null, \"page_url\": null}   \n",
       "1  {\"city\": \"Warsaw, Poland\", \"page_url\": \"/profi...   \n",
       "2                   {\"city\": null, \"page_url\": null}   \n",
       "3                   {\"city\": null, \"page_url\": null}   \n",
       "4  {\"city\": \"Richmond, British Columbia\", \"page_u...   \n",
       "\n",
       "                                            hometown places_lived    ...     \\\n",
       "0               {\"hometown\": null, \"page_url\": null}         null    ...      \n",
       "1  {\"hometown\": \"Guangzhou, China\", \"page_url\": \"...         null    ...      \n",
       "2  {\"hometown\": \"Warsaw, Poland\", \"page_url\": \"/p...         null    ...      \n",
       "3  {\"hometown\": \"Budapest, Hungary\", \"page_url\": ...         null    ...      \n",
       "4  {\"hometown\": \"Richmond, British Columbia\", \"pa...         null    ...      \n",
       "\n",
       "  birth_date interested_in languages religion political  gender  \\\n",
       "0        NaN           NaN        []      NaN       NaN  Female   \n",
       "1        NaN           NaN        []      NaN       NaN  Female   \n",
       "2        NaN           NaN        []      NaN       NaN  Female   \n",
       "3        NaN           NaN        []      NaN       NaN  Female   \n",
       "4        NaN           Men        []      NaN       NaN  Female   \n",
       "\n",
       "                       relationship  \\\n",
       "0        {\"text\": \"\", \"link\": null}   \n",
       "1        {\"text\": \"\", \"link\": null}   \n",
       "2        {\"text\": \"\", \"link\": null}   \n",
       "3        {\"text\": \"\", \"link\": null}   \n",
       "4  {\"text\": \"Single\", \"link\": null}   \n",
       "\n",
       "                                         life_events  \\\n",
       "0                                               null   \n",
       "1  [{\"headline\": \"Started School at Akademia Leon...   \n",
       "2                                               null   \n",
       "3  [{\"headline\": \"Graduated from Eszterh\\u00e1zy ...   \n",
       "4                                               null   \n",
       "\n",
       "                                               about timestamp  \n",
       "0                                                NaN   31:09.6  \n",
       "1                                                NaN   31:23.7  \n",
       "2                                                NaN   31:34.7  \n",
       "3  ��ܾ__��Ս����վ���_��_� �__�_��_���������_�_����...   31:35.7  \n",
       "4                                                NaN   31:46.8  \n",
       "\n",
       "[5 rows x 23 columns]"
      ]
     },
     "execution_count": 195,
     "metadata": {},
     "output_type": "execute_result"
    }
   ],
   "source": [
    "gender[:5]"
   ]
  },
  {
   "cell_type": "code",
   "execution_count": 253,
   "metadata": {
    "collapsed": false
   },
   "outputs": [],
   "source": [
    "raw_gender_count = data['gender'].value_counts()"
   ]
  },
  {
   "cell_type": "code",
   "execution_count": 305,
   "metadata": {
    "collapsed": false
   },
   "outputs": [
    {
     "name": "stderr",
     "output_type": "stream",
     "text": [
      "/anaconda/lib/python2.7/site-packages/ipykernel/__main__.py:7: SettingWithCopyWarning: \n",
      "A value is trying to be set on a copy of a slice from a DataFrame.\n",
      "Try using .loc[row_indexer,col_indexer] = value instead\n",
      "\n",
      "See the caveats in the documentation: http://pandas.pydata.org/pandas-docs/stable/indexing.html#indexing-view-versus-copy\n"
     ]
    }
   ],
   "source": [
    "# 80.99% (1193/1473) users specify their gender, for the null one, we use existing gender predictor api \n",
    "# (predict from first name) to infer their gender. Later we will combine with face recognition to have a more precise result.\n",
    "\n",
    "sex_null = data.loc[data['gender'].isnull()]\n",
    "sex = sex_null[['name','gender']]\n",
    "#df[['first name','last name']] = df['name'].loc[df['name'].str.split().str.len() == 2].str.split(expand=True)\n",
    "sex['first name']=sex['name'].str.split().str[0]"
   ]
  },
  {
   "cell_type": "code",
   "execution_count": 306,
   "metadata": {
    "collapsed": false
   },
   "outputs": [
    {
     "name": "stderr",
     "output_type": "stream",
     "text": [
      "/anaconda/lib/python2.7/site-packages/ipykernel/__main__.py:5: SettingWithCopyWarning: \n",
      "A value is trying to be set on a copy of a slice from a DataFrame.\n",
      "Try using .loc[row_indexer,col_indexer] = value instead\n",
      "\n",
      "See the caveats in the documentation: http://pandas.pydata.org/pandas-docs/stable/indexing.html#indexing-view-versus-copy\n"
     ]
    }
   ],
   "source": [
    "import chgender\n",
    "\n",
    "gender_guess = sex['first name'].apply(chgender.guess)\n",
    "gender_guess\n",
    "sex['gender'] = pd.DataFrame(gender_guess.values.tolist(),index=sex.index)[0].str.capitalize()\n",
    "\n",
    "data.loc[(pd.isnull(data.gender)), 'gender'] = sex['gender']"
   ]
  },
  {
   "cell_type": "code",
   "execution_count": 307,
   "metadata": {
    "collapsed": false
   },
   "outputs": [
    {
     "data": {
      "text/plain": [
       "Female     926\n",
       "Male       541\n",
       "Unknown      3\n",
       "Name: gender, dtype: int64"
      ]
     },
     "execution_count": 307,
     "metadata": {},
     "output_type": "execute_result"
    }
   ],
   "source": [
    "data['gender'].value_counts()"
   ]
  },
  {
   "cell_type": "code",
   "execution_count": 69,
   "metadata": {
    "collapsed": false
   },
   "outputs": [
    {
     "data": {
      "text/html": [
       "<div>\n",
       "<style>\n",
       "    .dataframe thead tr:only-child th {\n",
       "        text-align: right;\n",
       "    }\n",
       "\n",
       "    .dataframe thead th {\n",
       "        text-align: left;\n",
       "    }\n",
       "\n",
       "    .dataframe tbody tr th {\n",
       "        vertical-align: top;\n",
       "    }\n",
       "</style>\n",
       "<table border=\"1\" class=\"dataframe\">\n",
       "  <thead>\n",
       "    <tr style=\"text-align: right;\">\n",
       "      <th></th>\n",
       "      <th>id</th>\n",
       "      <th>name</th>\n",
       "      <th>facebook_user_name</th>\n",
       "      <th>profile_url</th>\n",
       "      <th>works</th>\n",
       "      <th>colleges</th>\n",
       "      <th>current_city</th>\n",
       "      <th>hometown</th>\n",
       "      <th>places_lived</th>\n",
       "      <th>fav_quotes</th>\n",
       "      <th>...</th>\n",
       "      <th>birth_date</th>\n",
       "      <th>interested_in</th>\n",
       "      <th>languages</th>\n",
       "      <th>religion</th>\n",
       "      <th>political</th>\n",
       "      <th>gender</th>\n",
       "      <th>relationship</th>\n",
       "      <th>life_events</th>\n",
       "      <th>about</th>\n",
       "      <th>timestamp</th>\n",
       "    </tr>\n",
       "    <tr>\n",
       "      <th>facebook_user_id</th>\n",
       "      <th></th>\n",
       "      <th></th>\n",
       "      <th></th>\n",
       "      <th></th>\n",
       "      <th></th>\n",
       "      <th></th>\n",
       "      <th></th>\n",
       "      <th></th>\n",
       "      <th></th>\n",
       "      <th></th>\n",
       "      <th></th>\n",
       "      <th></th>\n",
       "      <th></th>\n",
       "      <th></th>\n",
       "      <th></th>\n",
       "      <th></th>\n",
       "      <th></th>\n",
       "      <th></th>\n",
       "      <th></th>\n",
       "      <th></th>\n",
       "      <th></th>\n",
       "    </tr>\n",
       "  </thead>\n",
       "  <tbody>\n",
       "    <tr>\n",
       "      <th>1.00001E+14</th>\n",
       "      <td>238</td>\n",
       "      <td>Tim Mai</td>\n",
       "      <td>tmai.7</td>\n",
       "      <td>https://m.facebook.com/tmai.7</td>\n",
       "      <td>null</td>\n",
       "      <td>null</td>\n",
       "      <td>{\"city\": null, \"page_url\": null}</td>\n",
       "      <td>{\"hometown\": null, \"page_url\": null}</td>\n",
       "      <td>null</td>\n",
       "      <td>NaN</td>\n",
       "      <td>...</td>\n",
       "      <td>NaN</td>\n",
       "      <td>NaN</td>\n",
       "      <td>[]</td>\n",
       "      <td>NaN</td>\n",
       "      <td>NaN</td>\n",
       "      <td>Unknown</td>\n",
       "      <td>{\"text\": \"\", \"link\": null}</td>\n",
       "      <td>null</td>\n",
       "      <td>NaN</td>\n",
       "      <td>00:18.4</td>\n",
       "    </tr>\n",
       "    <tr>\n",
       "      <th>756746773</th>\n",
       "      <td>647</td>\n",
       "      <td>Pam Ela</td>\n",
       "      <td>pam.ela.75098</td>\n",
       "      <td>https://m.facebook.com/pam.ela.75098</td>\n",
       "      <td>null</td>\n",
       "      <td>null</td>\n",
       "      <td>{\"city\": null, \"page_url\": null}</td>\n",
       "      <td>{\"hometown\": null, \"page_url\": null}</td>\n",
       "      <td>null</td>\n",
       "      <td>NaN</td>\n",
       "      <td>...</td>\n",
       "      <td>NaN</td>\n",
       "      <td>NaN</td>\n",
       "      <td>[]</td>\n",
       "      <td>NaN</td>\n",
       "      <td>NaN</td>\n",
       "      <td>Unknown</td>\n",
       "      <td>{\"text\": \"\", \"link\": null}</td>\n",
       "      <td>null</td>\n",
       "      <td>NaN</td>\n",
       "      <td>12:09.2</td>\n",
       "    </tr>\n",
       "    <tr>\n",
       "      <th>1205419792</th>\n",
       "      <td>58</td>\n",
       "      <td>Mya Zhang</td>\n",
       "      <td>myamingchen.zhang</td>\n",
       "      <td>https://m.facebook.com/myamingchen.zhang</td>\n",
       "      <td>null</td>\n",
       "      <td>null</td>\n",
       "      <td>{\"city\": \"London, United Kingdom\", \"page_url\":...</td>\n",
       "      <td>{\"hometown\": null, \"page_url\": null}</td>\n",
       "      <td>null</td>\n",
       "      <td>NaN</td>\n",
       "      <td>...</td>\n",
       "      <td>NaN</td>\n",
       "      <td>NaN</td>\n",
       "      <td>[]</td>\n",
       "      <td>NaN</td>\n",
       "      <td>NaN</td>\n",
       "      <td>Unknown</td>\n",
       "      <td>{\"text\": \"\", \"link\": null}</td>\n",
       "      <td>null</td>\n",
       "      <td>NaN</td>\n",
       "      <td>27:01.4</td>\n",
       "    </tr>\n",
       "  </tbody>\n",
       "</table>\n",
       "<p>3 rows × 22 columns</p>\n",
       "</div>"
      ],
      "text/plain": [
       "                   id       name facebook_user_name  \\\n",
       "facebook_user_id                                      \n",
       "1.00001E+14       238    Tim Mai             tmai.7   \n",
       "756746773         647    Pam Ela      pam.ela.75098   \n",
       "1205419792         58  Mya Zhang  myamingchen.zhang   \n",
       "\n",
       "                                               profile_url works colleges  \\\n",
       "facebook_user_id                                                            \n",
       "1.00001E+14                  https://m.facebook.com/tmai.7  null     null   \n",
       "756746773             https://m.facebook.com/pam.ela.75098  null     null   \n",
       "1205419792        https://m.facebook.com/myamingchen.zhang  null     null   \n",
       "\n",
       "                                                       current_city  \\\n",
       "facebook_user_id                                                      \n",
       "1.00001E+14                        {\"city\": null, \"page_url\": null}   \n",
       "756746773                          {\"city\": null, \"page_url\": null}   \n",
       "1205419792        {\"city\": \"London, United Kingdom\", \"page_url\":...   \n",
       "\n",
       "                                              hometown places_lived  \\\n",
       "facebook_user_id                                                      \n",
       "1.00001E+14       {\"hometown\": null, \"page_url\": null}         null   \n",
       "756746773         {\"hometown\": null, \"page_url\": null}         null   \n",
       "1205419792        {\"hometown\": null, \"page_url\": null}         null   \n",
       "\n",
       "                 fav_quotes    ...    birth_date interested_in languages  \\\n",
       "facebook_user_id               ...                                         \n",
       "1.00001E+14             NaN    ...           NaN           NaN        []   \n",
       "756746773               NaN    ...           NaN           NaN        []   \n",
       "1205419792              NaN    ...           NaN           NaN        []   \n",
       "\n",
       "                 religion political   gender                relationship  \\\n",
       "facebook_user_id                                                           \n",
       "1.00001E+14           NaN       NaN  Unknown  {\"text\": \"\", \"link\": null}   \n",
       "756746773             NaN       NaN  Unknown  {\"text\": \"\", \"link\": null}   \n",
       "1205419792            NaN       NaN  Unknown  {\"text\": \"\", \"link\": null}   \n",
       "\n",
       "                 life_events about timestamp  \n",
       "facebook_user_id                              \n",
       "1.00001E+14             null   NaN   00:18.4  \n",
       "756746773               null   NaN   12:09.2  \n",
       "1205419792              null   NaN   27:01.4  \n",
       "\n",
       "[3 rows x 22 columns]"
      ]
     },
     "execution_count": 69,
     "metadata": {},
     "output_type": "execute_result"
    }
   ],
   "source": [
    "data.loc[data['gender'] == 'Unknown']\n",
    "#will try to use photo to detect these unknown "
   ]
  },
  {
   "cell_type": "markdown",
   "metadata": {},
   "source": [
    "### Check accuracy of Chgender"
   ]
  },
  {
   "cell_type": "code",
   "execution_count": 262,
   "metadata": {
    "collapsed": false
   },
   "outputs": [
    {
     "data": {
      "text/plain": [
       "False    696\n",
       "True     495\n",
       "Name: NE, dtype: int64"
      ]
     },
     "execution_count": 262,
     "metadata": {},
     "output_type": "execute_result"
    }
   ],
   "source": [
    "sex2 = data.loc[data['gender'].notnull()]\n",
    "sex2 = sex2[['name','gender']]\n",
    "#df[['first name','last name']] = df['name'].loc[df['name'].str.split().str.len() == 2].str.split(expand=True)\n",
    "sex2['first name']=sex2['name'].str.split().str[0]\n",
    "\n",
    "guess = sex2['first name'].apply(chgender.guess)\n",
    "pd.DataFrame(guess.values.tolist(),index=sex2.index)[0]\n",
    "sex2['guess'] = pd.DataFrame(guess.values.tolist(),index=sex2.index)[0].str.capitalize()\n",
    "\n",
    "sex2 = sex2[['gender', 'guess']].assign(NE=sex2.gender != sex2.guess)\n",
    "sex2['NE'].value_counts()"
   ]
  },
  {
   "cell_type": "markdown",
   "metadata": {},
   "source": [
    "# Age"
   ]
  },
  {
   "cell_type": "code",
   "execution_count": 264,
   "metadata": {
    "collapsed": false
   },
   "outputs": [
    {
     "data": {
      "text/plain": [
       "428"
      ]
     },
     "execution_count": 264,
     "metadata": {},
     "output_type": "execute_result"
    }
   ],
   "source": [
    "age = data[pd.notnull(data['birth_date'])]\n",
    "len(age)"
   ]
  },
  {
   "cell_type": "code",
   "execution_count": 265,
   "metadata": {
    "collapsed": false
   },
   "outputs": [
    {
     "name": "stderr",
     "output_type": "stream",
     "text": [
      "/anaconda/lib/python2.7/site-packages/ipykernel/__main__.py:2: SettingWithCopyWarning: \n",
      "A value is trying to be set on a copy of a slice from a DataFrame.\n",
      "Try using .loc[row_indexer,col_indexer] = value instead\n",
      "\n",
      "See the caveats in the documentation: http://pandas.pydata.org/pandas-docs/stable/indexing.html#indexing-view-versus-copy\n",
      "  from ipykernel import kernelapp as app\n",
      "/anaconda/lib/python2.7/site-packages/ipykernel/__main__.py:3: SettingWithCopyWarning: \n",
      "A value is trying to be set on a copy of a slice from a DataFrame.\n",
      "Try using .loc[row_indexer,col_indexer] = value instead\n",
      "\n",
      "See the caveats in the documentation: http://pandas.pydata.org/pandas-docs/stable/indexing.html#indexing-view-versus-copy\n",
      "  app.launch_new_instance()\n"
     ]
    }
   ],
   "source": [
    "#age['year'] = pd.to_datetime(age['birth_date'])\n",
    "age['year'] = pd.to_datetime(age['birth_date'],errors='coerce').dt.year\n",
    "age['age'] = (pd.to_datetime('today').year - age['year'])\n",
    "age = age[age['year'] != 2054]"
   ]
  },
  {
   "cell_type": "code",
   "execution_count": 269,
   "metadata": {
    "collapsed": false
   },
   "outputs": [
    {
     "data": {
      "text/plain": [
       "count    323.000000\n",
       "mean      24.730650\n",
       "std        2.414736\n",
       "min       21.000000\n",
       "25%       24.000000\n",
       "50%       24.000000\n",
       "75%       25.000000\n",
       "max       44.000000\n",
       "Name: age, dtype: float64"
      ]
     },
     "execution_count": 269,
     "metadata": {},
     "output_type": "execute_result"
    }
   ],
   "source": [
    "age['age'].describe()"
   ]
  },
  {
   "cell_type": "code",
   "execution_count": 150,
   "metadata": {
    "collapsed": false
   },
   "outputs": [
    {
     "data": {
      "text/plain": [
       "24.0    155\n",
       "25.0     87\n",
       "23.0     24\n",
       "26.0     23\n",
       "22.0     11\n",
       "27.0      8\n",
       "28.0      2\n",
       "21.0      2\n",
       "42.0      2\n",
       "29.0      2\n",
       "44.0      1\n",
       "30.0      1\n",
       "35.0      1\n",
       "34.0      1\n",
       "33.0      1\n",
       "31.0      1\n",
       "38.0      1\n",
       "Name: age, dtype: int64"
      ]
     },
     "execution_count": 150,
     "metadata": {},
     "output_type": "execute_result"
    }
   ],
   "source": [
    "age['age'].value_counts().sort_values(ascending=False)"
   ]
  },
  {
   "cell_type": "markdown",
   "metadata": {},
   "source": [
    "# College"
   ]
  },
  {
   "cell_type": "code",
   "execution_count": 204,
   "metadata": {
    "collapsed": false
   },
   "outputs": [
    {
     "data": {
      "text/plain": [
       "937"
      ]
     },
     "execution_count": 204,
     "metadata": {},
     "output_type": "execute_result"
    }
   ],
   "source": [
    "#colleges = data[['facebook_user_id','colleges']]\n",
    "\n",
    "colleges = data[data['colleges'] != '']\n",
    "\n",
    "len(colleges[colleges.colleges.str.contains('school')])\n",
    "# 63.72% reveals their schools"
   ]
  },
  {
   "cell_type": "code",
   "execution_count": 365,
   "metadata": {
    "collapsed": false,
    "scrolled": true
   },
   "outputs": [
    {
     "data": {
      "text/html": [
       "<div>\n",
       "<style>\n",
       "    .dataframe thead tr:only-child th {\n",
       "        text-align: right;\n",
       "    }\n",
       "\n",
       "    .dataframe thead th {\n",
       "        text-align: left;\n",
       "    }\n",
       "\n",
       "    .dataframe tbody tr th {\n",
       "        vertical-align: top;\n",
       "    }\n",
       "</style>\n",
       "<table border=\"1\" class=\"dataframe\">\n",
       "  <thead>\n",
       "    <tr style=\"text-align: right;\">\n",
       "      <th></th>\n",
       "      <th>colleges</th>\n",
       "      <th>facebook_user_id</th>\n",
       "    </tr>\n",
       "  </thead>\n",
       "  <tbody>\n",
       "    <tr>\n",
       "      <th>0</th>\n",
       "      <td>null</td>\n",
       "      <td>1.000040e+14</td>\n",
       "    </tr>\n",
       "    <tr>\n",
       "      <th>1</th>\n",
       "      <td>[{\"school\": \"Akademia Leona Ko\\u017ami\\u0144sk...</td>\n",
       "      <td>1.000130e+14</td>\n",
       "    </tr>\n",
       "    <tr>\n",
       "      <th>2</th>\n",
       "      <td>\"url\": \"/kozminski/\"</td>\n",
       "      <td>1.000130e+14</td>\n",
       "    </tr>\n",
       "    <tr>\n",
       "      <th>3</th>\n",
       "      <td>\"graduated\": null</td>\n",
       "      <td>1.000130e+14</td>\n",
       "    </tr>\n",
       "    <tr>\n",
       "      <th>4</th>\n",
       "      <td>\"concentrations\": [\"Accounting &amp; Finance\"]</td>\n",
       "      <td>1.000130e+14</td>\n",
       "    </tr>\n",
       "    <tr>\n",
       "      <th>5</th>\n",
       "      <td>\"description\": null</td>\n",
       "      <td>1.000130e+14</td>\n",
       "    </tr>\n",
       "    <tr>\n",
       "      <th>6</th>\n",
       "      <td>\"start\": \"2016\"</td>\n",
       "      <td>1.000130e+14</td>\n",
       "    </tr>\n",
       "    <tr>\n",
       "      <th>7</th>\n",
       "      <td>\"end\": \"2018\"</td>\n",
       "      <td>1.000130e+14</td>\n",
       "    </tr>\n",
       "    <tr>\n",
       "      <th>8</th>\n",
       "      <td>\"attended_for\": \"College\"</td>\n",
       "      <td>1.000130e+14</td>\n",
       "    </tr>\n",
       "    <tr>\n",
       "      <th>9</th>\n",
       "      <td>\"degree\": null}</td>\n",
       "      <td>1.000130e+14</td>\n",
       "    </tr>\n",
       "  </tbody>\n",
       "</table>\n",
       "</div>"
      ],
      "text/plain": [
       "                                            colleges  facebook_user_id\n",
       "0                                               null      1.000040e+14\n",
       "1  [{\"school\": \"Akademia Leona Ko\\u017ami\\u0144sk...      1.000130e+14\n",
       "2                               \"url\": \"/kozminski/\"      1.000130e+14\n",
       "3                                  \"graduated\": null      1.000130e+14\n",
       "4         \"concentrations\": [\"Accounting & Finance\"]      1.000130e+14\n",
       "5                                \"description\": null      1.000130e+14\n",
       "6                                    \"start\": \"2016\"      1.000130e+14\n",
       "7                                      \"end\": \"2018\"      1.000130e+14\n",
       "8                          \"attended_for\": \"College\"      1.000130e+14\n",
       "9                                    \"degree\": null}      1.000130e+14"
      ]
     },
     "execution_count": 365,
     "metadata": {},
     "output_type": "execute_result"
    }
   ],
   "source": [
    "college = pd.DataFrame(colleges.colleges.str.split(',').tolist(), index=colleges.facebook_user_id).stack()\n",
    "college = college.reset_index()[[0, 'facebook_user_id']] # var1 variable is currently labeled 0\n",
    "college.columns = ['colleges', 'facebook_user_id'] # renaming var1\n",
    "#college = college[college.colleges.str.contains('school')]\n",
    "college[:10]"
   ]
  },
  {
   "cell_type": "code",
   "execution_count": 299,
   "metadata": {
    "collapsed": false
   },
   "outputs": [
    {
     "data": {
      "text/plain": [
       "193"
      ]
     },
     "execution_count": 299,
     "metadata": {},
     "output_type": "execute_result"
    }
   ],
   "source": [
    "time = college[college.colleges.str.contains('\"start\":|\"end\":')]\n",
    "time = time[time.colleges.str.contains('0|9')]\n",
    "len(time.groupby('facebook_user_id'))"
   ]
  },
  {
   "cell_type": "code",
   "execution_count": 279,
   "metadata": {
    "collapsed": false
   },
   "outputs": [
    {
     "data": {
      "text/plain": [
       "217"
      ]
     },
     "execution_count": 279,
     "metadata": {},
     "output_type": "execute_result"
    }
   ],
   "source": [
    "college.colleges = college.colleges.str.replace('\"','')\n",
    "college.colleges = college.colleges.str.replace('[','')\n",
    "college.colleges = college.colleges.str.replace(']','')\n",
    "college.colleges = college.colleges.str.replace('{','')\n",
    "college.colleges = college.colleges.str.replace('}','')\n",
    "college = college[~college['colleges'].str.contains('url:')]\n",
    "college = college[~college['colleges'].str.contains('description:')]\n",
    "grad_time = college[college.colleges.str.contains('start:|end:')]\n",
    "grad_time = college[college.colleges.str.contains('0|9')]\n",
    "len(grad_time.groupby('facebook_user_id'))\n",
    "#grad_time.groupby('facebook_user_id')['colleges']"
   ]
  },
  {
   "cell_type": "code",
   "execution_count": 366,
   "metadata": {
    "collapsed": false,
    "scrolled": true
   },
   "outputs": [
    {
     "data": {
      "text/html": [
       "<div>\n",
       "<style>\n",
       "    .dataframe thead tr:only-child th {\n",
       "        text-align: right;\n",
       "    }\n",
       "\n",
       "    .dataframe thead th {\n",
       "        text-align: left;\n",
       "    }\n",
       "\n",
       "    .dataframe tbody tr th {\n",
       "        vertical-align: top;\n",
       "    }\n",
       "</style>\n",
       "<table border=\"1\" class=\"dataframe\">\n",
       "  <thead>\n",
       "    <tr style=\"text-align: right;\">\n",
       "      <th></th>\n",
       "      <th>colleges</th>\n",
       "      <th>facebook_user_id</th>\n",
       "    </tr>\n",
       "  </thead>\n",
       "  <tbody>\n",
       "    <tr>\n",
       "      <th>1</th>\n",
       "      <td>school: Akademia Leona Ko\\u017ami\\u0144skiego ...</td>\n",
       "      <td>1.000130e+14</td>\n",
       "    </tr>\n",
       "    <tr>\n",
       "      <th>6</th>\n",
       "      <td>start: 2016</td>\n",
       "      <td>1.000130e+14</td>\n",
       "    </tr>\n",
       "    <tr>\n",
       "      <th>7</th>\n",
       "      <td>end: 2018</td>\n",
       "      <td>1.000130e+14</td>\n",
       "    </tr>\n",
       "    <tr>\n",
       "      <th>10</th>\n",
       "      <td>school: \\u5e7f\\u4e1c\\u5916\\u8bed\\u5916\\u8d38\\...</td>\n",
       "      <td>1.000130e+14</td>\n",
       "    </tr>\n",
       "    <tr>\n",
       "      <th>19</th>\n",
       "      <td>school: \\u5e7f\\u96c5\\u4e2d\\u5b66</td>\n",
       "      <td>1.000130e+14</td>\n",
       "    </tr>\n",
       "    <tr>\n",
       "      <th>29</th>\n",
       "      <td>school: Eszterh\\u00e1zy K\\u00e1roly Egyetem - ...</td>\n",
       "      <td>1.482905e+09</td>\n",
       "    </tr>\n",
       "    <tr>\n",
       "      <th>32</th>\n",
       "      <td>concentrations: Fejleszt\\u0151-differenci\\u00...</td>\n",
       "      <td>1.482905e+09</td>\n",
       "    </tr>\n",
       "    <tr>\n",
       "      <th>35</th>\n",
       "      <td>end: 2018</td>\n",
       "      <td>1.482905e+09</td>\n",
       "    </tr>\n",
       "    <tr>\n",
       "      <th>38</th>\n",
       "      <td>school: PTE Illy\\u00e9s Gyula Tan\\u00edt\\u00f...</td>\n",
       "      <td>1.482905e+09</td>\n",
       "    </tr>\n",
       "    <tr>\n",
       "      <th>44</th>\n",
       "      <td>end: 1999</td>\n",
       "      <td>1.482905e+09</td>\n",
       "    </tr>\n",
       "  </tbody>\n",
       "</table>\n",
       "</div>"
      ],
      "text/plain": [
       "                                             colleges  facebook_user_id\n",
       "1   school: Akademia Leona Ko\\u017ami\\u0144skiego ...      1.000130e+14\n",
       "6                                         start: 2016      1.000130e+14\n",
       "7                                           end: 2018      1.000130e+14\n",
       "10   school: \\u5e7f\\u4e1c\\u5916\\u8bed\\u5916\\u8d38\\...      1.000130e+14\n",
       "19                   school: \\u5e7f\\u96c5\\u4e2d\\u5b66      1.000130e+14\n",
       "29  school: Eszterh\\u00e1zy K\\u00e1roly Egyetem - ...      1.482905e+09\n",
       "32   concentrations: Fejleszt\\u0151-differenci\\u00...      1.482905e+09\n",
       "35                                          end: 2018      1.482905e+09\n",
       "38   school: PTE Illy\\u00e9s Gyula Tan\\u00edt\\u00f...      1.482905e+09\n",
       "44                                          end: 1999      1.482905e+09"
      ]
     },
     "execution_count": 366,
     "metadata": {},
     "output_type": "execute_result"
    }
   ],
   "source": [
    "grad_time[:10]"
   ]
  },
  {
   "cell_type": "code",
   "execution_count": 364,
   "metadata": {
    "collapsed": false
   },
   "outputs": [
    {
     "data": {
      "text/plain": [
       "  Graduate School                                        43\n",
       "  PhD                                                    28\n",
       "  Master                                                  5\n",
       "  Juris doctor                                            4\n",
       "  Ph.D.                                                   2\n",
       "  Juris Doctor                                            2\n",
       "  Master of Fine Arts                                     1\n",
       "  Master of Arts in Teaching                              1\n",
       "  Master of Arts in Law and Diplomacy                     1\n",
       "  MMus                                                    1\n",
       "  MSc Health Psychology                                   1\n",
       "  Doctorate                                               1\n",
       "  Master of Social Work                                   1\n",
       "  MS                                                      1\n",
       "  Master of Business Administration                       1\n",
       "  Doctorate of Physical Therapy                           1\n",
       "  LL.M.                                                   1\n",
       "  PhD (ABD)                                               1\n",
       "  Master of Arts (M.A.)                                   1\n",
       "  Master of Divinity                                      1\n",
       "  Juris Doctor (J.D.)                                     1\n",
       "  Ph.D in Political Science                               1\n",
       "  Masters in the Art of Teaching                          1\n",
       "  Masters in Social Work with a focus in Group Work.      1\n",
       "  M.D.                                                    1\n",
       "  Doctor of Medicine                                      1\n",
       "  Master of Architecture                                  1\n",
       "  PhD in Information Systems                              1\n",
       "  P.h.d Doctor                                            1\n",
       "  BEng                                                    1\n",
       "  Doctor                                                  1\n",
       "  MD                                                      1\n",
       "  Master of Public Health                                 1\n",
       "  MA                                                      1\n",
       "  French                                                  1\n",
       "  J.D.                                                    1\n",
       "  Masters of Engineering                                  1\n",
       "Name: colleges, dtype: int64"
      ]
     },
     "execution_count": 364,
     "metadata": {},
     "output_type": "execute_result"
    }
   ],
   "source": [
    "m4 = college[college['colleges'].str.contains('degree')]\n",
    "m4.colleges = m4.colleges.str.replace('\"degree\":','')\n",
    "m4.colleges = m4.colleges.str.replace('}','')\n",
    "m4.colleges = m4.colleges.str.replace(']','')\n",
    "\n",
    "degree = m4[~m4.colleges.str.contains('null')]\n",
    "degree.colleges = degree.colleges.str.replace('\"','')\n",
    "degree.colleges = degree.colleges.str.replace('\"','')\n",
    "\n",
    "highest_degree = degree.groupby('facebook_user_id').first()\n",
    "highest_degree['colleges'].value_counts()"
   ]
  },
  {
   "cell_type": "markdown",
   "metadata": {},
   "source": [
    "# work"
   ]
  },
  {
   "cell_type": "code",
   "execution_count": 208,
   "metadata": {
    "collapsed": false
   },
   "outputs": [
    {
     "data": {
      "text/plain": [
       "527"
      ]
     },
     "execution_count": 208,
     "metadata": {},
     "output_type": "execute_result"
    }
   ],
   "source": [
    "len(data.current city.str.contains('company'))"
   ]
  },
  {
   "cell_type": "code",
   "execution_count": 367,
   "metadata": {
    "collapsed": false
   },
   "outputs": [
    {
     "data": {
      "text/html": [
       "<div>\n",
       "<style>\n",
       "    .dataframe thead tr:only-child th {\n",
       "        text-align: right;\n",
       "    }\n",
       "\n",
       "    .dataframe thead th {\n",
       "        text-align: left;\n",
       "    }\n",
       "\n",
       "    .dataframe tbody tr th {\n",
       "        vertical-align: top;\n",
       "    }\n",
       "</style>\n",
       "<table border=\"1\" class=\"dataframe\">\n",
       "  <thead>\n",
       "    <tr style=\"text-align: right;\">\n",
       "      <th></th>\n",
       "      <th>works</th>\n",
       "      <th>facebook_user_id</th>\n",
       "    </tr>\n",
       "  </thead>\n",
       "  <tbody>\n",
       "    <tr>\n",
       "      <th>6</th>\n",
       "      <td>\"start\": null</td>\n",
       "      <td>1.000130e+14</td>\n",
       "    </tr>\n",
       "    <tr>\n",
       "      <th>7</th>\n",
       "      <td>\"end\": null}]</td>\n",
       "      <td>1.000130e+14</td>\n",
       "    </tr>\n",
       "    <tr>\n",
       "      <th>14</th>\n",
       "      <td>\"start\": null</td>\n",
       "      <td>1.482905e+09</td>\n",
       "    </tr>\n",
       "    <tr>\n",
       "      <th>15</th>\n",
       "      <td>\"end\": null}</td>\n",
       "      <td>1.482905e+09</td>\n",
       "    </tr>\n",
       "    <tr>\n",
       "      <th>22</th>\n",
       "      <td>\"start\": \"September 1983\"</td>\n",
       "      <td>1.482905e+09</td>\n",
       "    </tr>\n",
       "    <tr>\n",
       "      <th>23</th>\n",
       "      <td>\"end\": \"August 1988\"}]</td>\n",
       "      <td>1.482905e+09</td>\n",
       "    </tr>\n",
       "    <tr>\n",
       "      <th>30</th>\n",
       "      <td>\"start\": null</td>\n",
       "      <td>5.809018e+08</td>\n",
       "    </tr>\n",
       "    <tr>\n",
       "      <th>31</th>\n",
       "      <td>\"end\": null}</td>\n",
       "      <td>5.809018e+08</td>\n",
       "    </tr>\n",
       "    <tr>\n",
       "      <th>37</th>\n",
       "      <td>\"start\": null</td>\n",
       "      <td>5.809018e+08</td>\n",
       "    </tr>\n",
       "    <tr>\n",
       "      <th>38</th>\n",
       "      <td>\"end\": null}</td>\n",
       "      <td>5.809018e+08</td>\n",
       "    </tr>\n",
       "  </tbody>\n",
       "</table>\n",
       "</div>"
      ],
      "text/plain": [
       "                         works  facebook_user_id\n",
       "6                \"start\": null      1.000130e+14\n",
       "7                \"end\": null}]      1.000130e+14\n",
       "14               \"start\": null      1.482905e+09\n",
       "15                \"end\": null}      1.482905e+09\n",
       "22   \"start\": \"September 1983\"      1.482905e+09\n",
       "23      \"end\": \"August 1988\"}]      1.482905e+09\n",
       "30               \"start\": null      5.809018e+08\n",
       "31                \"end\": null}      5.809018e+08\n",
       "37               \"start\": null      5.809018e+08\n",
       "38                \"end\": null}      5.809018e+08"
      ]
     },
     "execution_count": 367,
     "metadata": {},
     "output_type": "execute_result"
    }
   ],
   "source": [
    "work = pd.DataFrame(data.works.str.split(',').tolist(), index=colleges.facebook_user_id).stack()\n",
    "work = work.reset_index()[[0, 'facebook_user_id']] # var1 variable is currently labeled 0\n",
    "work.columns = ['works', 'facebook_user_id'] # renaming var1\n",
    "work_time = work[work.works.str.contains('\"start\":|\"end\":')]\n",
    "work_time[:10]"
   ]
  },
  {
   "cell_type": "code",
   "execution_count": 288,
   "metadata": {
    "collapsed": false
   },
   "outputs": [
    {
     "data": {
      "text/plain": [
       "146"
      ]
     },
     "execution_count": 288,
     "metadata": {},
     "output_type": "execute_result"
    }
   ],
   "source": [
    "work_time = work_time[work_time.works.str.contains('1|2')]\n",
    "len(work_time.groupby('facebook_user_id'))"
   ]
  },
  {
   "cell_type": "code",
   "execution_count": 368,
   "metadata": {
    "collapsed": false
   },
   "outputs": [
    {
     "data": {
      "text/plain": [
       "217"
      ]
     },
     "execution_count": 368,
     "metadata": {},
     "output_type": "execute_result"
    }
   ],
   "source": [
    "work.works = work.works.str.replace('[','')\n",
    "work.works = work.works.str.replace('{','')\n",
    "work.works = work.works.str.replace(']','')\n",
    "work.works = work.works.str.replace('}','')\n",
    "work.works = work.works.str.replace('\"','')\n",
    "work.works = work.works.str.replace('\"','')\n",
    "work = work[~work['works'].str.contains('url:')]\n",
    "work = work[~work['works'].str.contains('description:')]\n",
    "\n",
    "work_time = work[work.works.str.contains('start:|end:')]\n",
    "work_time = work_time[work_time.works.str.contains('0|9')]\n",
    "len(grad_time.groupby('facebook_user_id'))"
   ]
  },
  {
   "cell_type": "markdown",
   "metadata": {},
   "source": [
    "# Relationship"
   ]
  },
  {
   "cell_type": "code",
   "execution_count": 302,
   "metadata": {
    "collapsed": false
   },
   "outputs": [
    {
     "data": {
      "text/plain": [
       "211"
      ]
     },
     "execution_count": 302,
     "metadata": {},
     "output_type": "execute_result"
    }
   ],
   "source": [
    "data['relationship'] = data['relationship'].astype(str)\n",
    "relationship = pd.DataFrame(data.relationship.str.split(',').tolist(), index=data.facebook_user_id).stack()\n",
    "relationship = relationship.reset_index()[[0, 'facebook_user_id']] # var1 variable is currently labeled 0\n",
    "relationship.columns = ['relationship', 'facebook_user_id'] # renaming var1\n",
    "relationship = relationship[relationship['relationship'].str.contains('In|Married|Single|Engaged')]\n",
    "relationship.relationship = relationship.relationship.str.replace('{\"text\":','')\n",
    "relationship.relationship = relationship.relationship.str.replace('\"','')\n",
    "\n",
    "\n",
    "len(relationship)"
   ]
  },
  {
   "cell_type": "code",
   "execution_count": 303,
   "metadata": {
    "collapsed": false
   },
   "outputs": [
    {
     "name": "stdout",
     "output_type": "stream",
     "text": [
      "16\n",
      "62\n"
     ]
    }
   ],
   "source": [
    "married = relationship[relationship['relationship'].str.contains('Married|Engaged')]\n",
    "rel = relationship[relationship['relationship'].str.contains('In')]\n",
    "print len(married)\n",
    "print len(rel)"
   ]
  },
  {
   "cell_type": "markdown",
   "metadata": {},
   "source": [
    "# Interested In"
   ]
  },
  {
   "cell_type": "code",
   "execution_count": 244,
   "metadata": {
    "collapsed": false
   },
   "outputs": [
    {
     "data": {
      "text/plain": [
       "214"
      ]
     },
     "execution_count": 244,
     "metadata": {},
     "output_type": "execute_result"
    }
   ],
   "source": [
    "len(data[pd.notnull(data['interested_in'])])"
   ]
  }
 ],
 "metadata": {
  "kernelspec": {
   "display_name": "Python 2",
   "language": "python",
   "name": "python2"
  },
  "language_info": {
   "codemirror_mode": {
    "name": "ipython",
    "version": 2
   },
   "file_extension": ".py",
   "mimetype": "text/x-python",
   "name": "python",
   "nbconvert_exporter": "python",
   "pygments_lexer": "ipython2",
   "version": "2.7.13"
  }
 },
 "nbformat": 4,
 "nbformat_minor": 2
}
